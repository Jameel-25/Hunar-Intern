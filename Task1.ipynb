{
 "cells": [
  {
   "cell_type": "code",
   "execution_count": 1,
   "id": "670f6a58-cd64-483c-a5f2-a03d0b50d33d",
   "metadata": {},
   "outputs": [
    {
     "name": "stdout",
     "output_type": "stream",
     "text": [
      "Requirement already satisfied: pandas in c:\\users\\mohammedjameel\\anaconda3\\lib\\site-packages (2.2.2)\n",
      "Requirement already satisfied: numpy>=1.26.0 in c:\\users\\mohammedjameel\\anaconda3\\lib\\site-packages (from pandas) (1.26.4)\n",
      "Requirement already satisfied: python-dateutil>=2.8.2 in c:\\users\\mohammedjameel\\anaconda3\\lib\\site-packages (from pandas) (2.9.0.post0)\n",
      "Requirement already satisfied: pytz>=2020.1 in c:\\users\\mohammedjameel\\anaconda3\\lib\\site-packages (from pandas) (2024.1)\n",
      "Requirement already satisfied: tzdata>=2022.7 in c:\\users\\mohammedjameel\\anaconda3\\lib\\site-packages (from pandas) (2023.3)\n",
      "Requirement already satisfied: six>=1.5 in c:\\users\\mohammedjameel\\anaconda3\\lib\\site-packages (from python-dateutil>=2.8.2->pandas) (1.16.0)\n"
     ]
    }
   ],
   "source": [
    "!pip install pandas"
   ]
  },
  {
   "cell_type": "code",
   "execution_count": 3,
   "id": "6ab31003-71dd-46a0-8b37-ccb102edba05",
   "metadata": {},
   "outputs": [],
   "source": [
    "import pandas as pd"
   ]
  },
  {
   "cell_type": "code",
   "execution_count": 5,
   "id": "cc563d7e-b854-4019-b279-b498d274084e",
   "metadata": {},
   "outputs": [],
   "source": [
    "#load the dataset\n",
    "data=pd.read_csv('food_coded.csv')"
   ]
  },
  {
   "cell_type": "code",
   "execution_count": 9,
   "id": "ead92562-1f69-476f-9fdc-a494f5cffe0a",
   "metadata": {},
   "outputs": [
    {
     "name": "stdout",
     "output_type": "stream",
     "text": [
      "Origianal DataFrame:\n",
      "     GPA  Gender  breakfast  calories_chicken  calories_day  calories_scone  \\\n",
      "0    2.4       2          1               430           NaN           315.0   \n",
      "1  3.654       1          1               610           3.0           420.0   \n",
      "2    3.3       1          1               720           4.0           420.0   \n",
      "3    3.2       1          1               430           3.0           420.0   \n",
      "4    3.5       1          1               720           2.0           420.0   \n",
      "\n",
      "   coffee                      comfort_food        comfort_food_reasons  \\\n",
      "0       1                              none       we dont have comfort    \n",
      "1       2       chocolate, chips, ice cream        Stress, bored, anger   \n",
      "2       2   frozen yogurt, pizza, fast food             stress, sadness   \n",
      "3       2  Pizza, Mac and cheese, ice cream                     Boredom   \n",
      "4       2      Ice cream, chocolate, chips   Stress, boredom, cravings    \n",
      "\n",
      "   comfort_food_reasons_coded  ...  soup  sports  thai_food tortilla_calories  \\\n",
      "0                         9.0  ...   1.0     1.0          1            1165.0   \n",
      "1                         1.0  ...   1.0     1.0          2             725.0   \n",
      "2                         1.0  ...   1.0     2.0          5            1165.0   \n",
      "3                         2.0  ...   1.0     2.0          5             725.0   \n",
      "4                         1.0  ...   1.0     1.0          4             940.0   \n",
      "\n",
      "   turkey_calories  type_sports veggies_day  vitamins  waffle_calories  \\\n",
      "0              345   car racing           5         1             1315   \n",
      "1              690  Basketball            4         2              900   \n",
      "2              500         none           5         1              900   \n",
      "3              690          NaN           3         1             1315   \n",
      "4              500     Softball           4         2              760   \n",
      "\n",
      "                     weight  \n",
      "0                       187  \n",
      "1                       155  \n",
      "2  I'm not answering this.   \n",
      "3             Not sure, 240  \n",
      "4                       190  \n",
      "\n",
      "[5 rows x 61 columns]\n"
     ]
    }
   ],
   "source": [
    "#Dipsplaying the first few rows of the DataFrame\n",
    "print(\"Origianal DataFrame:\")\n",
    "print(data.head())"
   ]
  },
  {
   "cell_type": "code",
   "execution_count": 27,
   "id": "39d16969-83dd-4ad2-976b-2325910a61ef",
   "metadata": {},
   "outputs": [
    {
     "name": "stdout",
     "output_type": "stream",
     "text": [
      "\n",
      " Missing values per column:\n",
      "GPA                  2\n",
      "Gender               0\n",
      "breakfast            0\n",
      "calories_chicken     0\n",
      "calories_day        19\n",
      "                    ..\n",
      "type_sports         26\n",
      "veggies_day          0\n",
      "vitamins             0\n",
      "waffle_calories      0\n",
      "weight               2\n",
      "Length: 61, dtype: int64\n"
     ]
    }
   ],
   "source": [
    "#1. Handling missing values\n",
    "# check for missing values\n",
    "print(\"\\n Missing values per column:\")\n",
    "print(data.isnull().sum())"
   ]
  },
  {
   "cell_type": "code",
   "execution_count": 33,
   "id": "2b356fed-7790-432e-a0ad-af248e7829a7",
   "metadata": {},
   "outputs": [],
   "source": [
    "#2. Remove duplicate rows\n",
    "data = data.drop_duplicates()"
   ]
  },
  {
   "cell_type": "code",
   "execution_count": 37,
   "id": "aa32d87d-7236-4ff6-bca2-5c0165e9ef2f",
   "metadata": {},
   "outputs": [],
   "source": [
    "# Fill missing values\n",
    "#Fill numberical colums with mean\n",
    "numerical_cols=data.select_dtypes(include=['number']).columns\n",
    "data[numerical_cols]=data[numerical_cols].fillna(data[numerical_cols].mean())"
   ]
  },
  {
   "cell_type": "code",
   "execution_count": 41,
   "id": "7d0191c6-fd1c-4b52-9756-e0a82e4510ca",
   "metadata": {},
   "outputs": [],
   "source": [
    "# Fill categorical columns with mode\n",
    "categorical_cols = data.select_dtypes(include=['object']).columns\n",
    "data[categorical_cols] = data[categorical_cols].fillna(data[categorical_cols].mode().iloc[0])"
   ]
  },
  {
   "cell_type": "code",
   "execution_count": 43,
   "id": "ddcb8430-5b23-4364-baf3-f0fb08213f9c",
   "metadata": {},
   "outputs": [
    {
     "name": "stdout",
     "output_type": "stream",
     "text": [
      "\n",
      "Missing values after filling:\n",
      "GPA                 0\n",
      "Gender              0\n",
      "breakfast           0\n",
      "calories_chicken    0\n",
      "calories_day        0\n",
      "                   ..\n",
      "type_sports         0\n",
      "veggies_day         0\n",
      "vitamins            0\n",
      "waffle_calories     0\n",
      "weight              0\n",
      "Length: 61, dtype: int64\n"
     ]
    }
   ],
   "source": [
    "# Check again for missing values to confirm\n",
    "print(\"\\nMissing values after filling:\")\n",
    "print(data.isnull().sum())"
   ]
  },
  {
   "cell_type": "code",
   "execution_count": 45,
   "id": "710acf90-3938-4dc0-8874-ca8cf0aae382",
   "metadata": {},
   "outputs": [],
   "source": [
    "# 4. Remove duplicate columns\n",
    "data = data.loc[:,~data.columns.duplicated()]"
   ]
  },
  {
   "cell_type": "code",
   "execution_count": 47,
   "id": "31c888ba-cc1c-4c58-81a0-4ebb45d2a249",
   "metadata": {},
   "outputs": [
    {
     "name": "stdout",
     "output_type": "stream",
     "text": [
      "\n",
      "Cleaned DataFrame:\n",
      "     GPA  Gender  breakfast  calories_chicken  calories_day  calories_scone  \\\n",
      "0    2.4       2          1               430      3.028302           315.0   \n",
      "1  3.654       1          1               610      3.000000           420.0   \n",
      "2    3.3       1          1               720      4.000000           420.0   \n",
      "3    3.2       1          1               430      3.000000           420.0   \n",
      "4    3.5       1          1               720      2.000000           420.0   \n",
      "\n",
      "   coffee                      comfort_food        comfort_food_reasons  \\\n",
      "0       1                              none       we dont have comfort    \n",
      "1       2       chocolate, chips, ice cream        Stress, bored, anger   \n",
      "2       2   frozen yogurt, pizza, fast food             stress, sadness   \n",
      "3       2  Pizza, Mac and cheese, ice cream                     Boredom   \n",
      "4       2      Ice cream, chocolate, chips   Stress, boredom, cravings    \n",
      "\n",
      "   comfort_food_reasons_coded  ...  soup  sports  thai_food tortilla_calories  \\\n",
      "0                         9.0  ...   1.0     1.0          1            1165.0   \n",
      "1                         1.0  ...   1.0     1.0          2             725.0   \n",
      "2                         1.0  ...   1.0     2.0          5            1165.0   \n",
      "3                         2.0  ...   1.0     2.0          5             725.0   \n",
      "4                         1.0  ...   1.0     1.0          4             940.0   \n",
      "\n",
      "   turkey_calories  type_sports veggies_day  vitamins  waffle_calories  \\\n",
      "0              345   car racing           5         1             1315   \n",
      "1              690  Basketball            4         2              900   \n",
      "2              500         none           5         1              900   \n",
      "3              690         none           3         1             1315   \n",
      "4              500     Softball           4         2              760   \n",
      "\n",
      "                     weight  \n",
      "0                       187  \n",
      "1                       155  \n",
      "2  I'm not answering this.   \n",
      "3             Not sure, 240  \n",
      "4                       190  \n",
      "\n",
      "[5 rows x 61 columns]\n"
     ]
    }
   ],
   "source": [
    "# Display the cleaned DataFrame\n",
    "print(\"\\nCleaned DataFrame:\")\n",
    "print(data.head())"
   ]
  }
 ],
 "metadata": {
  "kernelspec": {
   "display_name": "Python 3 (ipykernel)",
   "language": "python",
   "name": "python3"
  },
  "language_info": {
   "codemirror_mode": {
    "name": "ipython",
    "version": 3
   },
   "file_extension": ".py",
   "mimetype": "text/x-python",
   "name": "python",
   "nbconvert_exporter": "python",
   "pygments_lexer": "ipython3",
   "version": "3.12.4"
  }
 },
 "nbformat": 4,
 "nbformat_minor": 5
}
