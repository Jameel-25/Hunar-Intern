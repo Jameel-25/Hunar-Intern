{
 "cells": [
  {
   "cell_type": "code",
   "execution_count": 1,
   "id": "b2820d88-f7e1-4025-8b53-af88e57b48eb",
   "metadata": {},
   "outputs": [],
   "source": [
    "import pandas as pd\n",
    "import numpy as np\n",
    "from sklearn.model_selection import train_test_split\n",
    "from sklearn.linear_model import LinearRegression\n",
    "from sklearn.metrics import mean_squared_error, r2_score"
   ]
  },
  {
   "cell_type": "code",
   "execution_count": 3,
   "id": "0bed334f-3a16-4fbd-ab59-7d509ec32f9d",
   "metadata": {},
   "outputs": [
    {
     "name": "stdout",
     "output_type": "stream",
     "text": [
      "Loading dataset...\n",
      "Dataset loaded successfully.\n",
      "\n"
     ]
    }
   ],
   "source": [
    "# Load dataset\n",
    "print(\"Loading dataset...\")\n",
    "dataset = pd.read_csv('house price data.csv')\n",
    "print(\"Dataset loaded successfully.\\n\")"
   ]
  },
  {
   "cell_type": "code",
   "execution_count": 5,
   "id": "d0348bea-9e87-424c-90d9-e618eafbd356",
   "metadata": {},
   "outputs": [
    {
     "name": "stdout",
     "output_type": "stream",
     "text": [
      "First few rows of the dataset:\n",
      "                  date      price  bedrooms  bathrooms  sqft_living  sqft_lot  \\\n",
      "0  2014-05-02 00:00:00   313000.0       3.0       1.50         1340      7912   \n",
      "1  2014-05-02 00:00:00  2384000.0       5.0       2.50         3650      9050   \n",
      "2  2014-05-02 00:00:00   342000.0       3.0       2.00         1930     11947   \n",
      "3  2014-05-02 00:00:00   420000.0       3.0       2.25         2000      8030   \n",
      "4  2014-05-02 00:00:00   550000.0       4.0       2.50         1940     10500   \n",
      "\n",
      "   floors  waterfront  view  condition  sqft_above  sqft_basement  yr_built  \\\n",
      "0     1.5           0     0          3        1340              0      1955   \n",
      "1     2.0           0     4          5        3370            280      1921   \n",
      "2     1.0           0     0          4        1930              0      1966   \n",
      "3     1.0           0     0          4        1000           1000      1963   \n",
      "4     1.0           0     0          4        1140            800      1976   \n",
      "\n",
      "   yr_renovated                    street       city  statezip country  \n",
      "0          2005      18810 Densmore Ave N  Shoreline  WA 98133     USA  \n",
      "1             0           709 W Blaine St    Seattle  WA 98119     USA  \n",
      "2             0  26206-26214 143rd Ave SE       Kent  WA 98042     USA  \n",
      "3             0           857 170th Pl NE   Bellevue  WA 98008     USA  \n",
      "4          1992         9105 170th Ave NE    Redmond  WA 98052     USA   \n",
      "\n"
     ]
    }
   ],
   "source": [
    "# Display the first few rows of the dataset\n",
    "print(\"First few rows of the dataset:\")\n",
    "print(dataset.head(), \"\\n\")"
   ]
  },
  {
   "cell_type": "code",
   "execution_count": 7,
   "id": "d9209e04-cafa-4acf-ac6d-0d8ec009a3f0",
   "metadata": {},
   "outputs": [
    {
     "name": "stdout",
     "output_type": "stream",
     "text": [
      "Preprocessing data...\n"
     ]
    }
   ],
   "source": [
    "# Data Preprocessing\n",
    "print(\"Preprocessing data...\")"
   ]
  },
  {
   "cell_type": "code",
   "execution_count": 9,
   "id": "4a60873b-01bb-413f-b449-260da0ff735c",
   "metadata": {},
   "outputs": [],
   "source": [
    "# Convert the 'date' column to datetime format\n",
    "dataset['date'] = pd.to_datetime(dataset['date'])"
   ]
  },
  {
   "cell_type": "code",
   "execution_count": 11,
   "id": "593614a6-1634-4606-a1ba-6bcffa7d97a6",
   "metadata": {},
   "outputs": [],
   "source": [
    "# Extract year, month, and day from the date\n",
    "dataset['year'] = dataset['date'].dt.year\n",
    "dataset['month'] = dataset['date'].dt.month\n",
    "dataset['day'] = dataset['date'].dt.day"
   ]
  },
  {
   "cell_type": "code",
   "execution_count": 13,
   "id": "35d35b8d-9c49-429a-ae0a-5e5ad6046344",
   "metadata": {},
   "outputs": [],
   "source": [
    "# Drop the original 'date' column\n",
    "dataset = dataset.drop('date', axis=1)"
   ]
  },
  {
   "cell_type": "code",
   "execution_count": 15,
   "id": "4921472b-08ac-4702-9108-80a31dff960f",
   "metadata": {},
   "outputs": [],
   "source": [
    "# Remove null values\n",
    "dataset = dataset.dropna()"
   ]
  },
  {
   "cell_type": "code",
   "execution_count": 17,
   "id": "419d4ba1-a5ab-4356-951b-a4e137f64761",
   "metadata": {},
   "outputs": [],
   "source": [
    "# Remove duplicates\n",
    "dataset = dataset.drop_duplicates()"
   ]
  },
  {
   "cell_type": "code",
   "execution_count": 19,
   "id": "35264642-a6ed-478b-93f0-2e099c08bc1c",
   "metadata": {},
   "outputs": [],
   "source": [
    "# Drop non-numeric columns that aren't useful for prediction\n",
    "dataset = dataset.drop(['street', 'city', 'statezip', 'country'], axis=1)"
   ]
  },
  {
   "cell_type": "code",
   "execution_count": 21,
   "id": "0a7dd6ae-c1bb-476e-9eb7-df361f157992",
   "metadata": {},
   "outputs": [
    {
     "name": "stdout",
     "output_type": "stream",
     "text": [
      "Data preprocessing completed.\n",
      "Dataset after preprocessing:\n",
      "       price  bedrooms  bathrooms  sqft_living  sqft_lot  floors  waterfront  \\\n",
      "0   313000.0       3.0       1.50         1340      7912     1.5           0   \n",
      "1  2384000.0       5.0       2.50         3650      9050     2.0           0   \n",
      "2   342000.0       3.0       2.00         1930     11947     1.0           0   \n",
      "3   420000.0       3.0       2.25         2000      8030     1.0           0   \n",
      "4   550000.0       4.0       2.50         1940     10500     1.0           0   \n",
      "\n",
      "   view  condition  sqft_above  sqft_basement  yr_built  yr_renovated  year  \\\n",
      "0     0          3        1340              0      1955          2005  2014   \n",
      "1     4          5        3370            280      1921             0  2014   \n",
      "2     0          4        1930              0      1966             0  2014   \n",
      "3     0          4        1000           1000      1963             0  2014   \n",
      "4     0          4        1140            800      1976          1992  2014   \n",
      "\n",
      "   month  day  \n",
      "0      5    2  \n",
      "1      5    2  \n",
      "2      5    2  \n",
      "3      5    2  \n",
      "4      5    2   \n",
      "\n"
     ]
    }
   ],
   "source": [
    "print(\"Data preprocessing completed.\")\n",
    "print(\"Dataset after preprocessing:\")\n",
    "print(dataset.head(), \"\\n\")"
   ]
  },
  {
   "cell_type": "code",
   "execution_count": 23,
   "id": "83b5c014-91cd-462f-93a4-44d793b10071",
   "metadata": {},
   "outputs": [
    {
     "name": "stdout",
     "output_type": "stream",
     "text": [
      "Data types of columns:\n",
      "price            float64\n",
      "bedrooms         float64\n",
      "bathrooms        float64\n",
      "sqft_living        int64\n",
      "sqft_lot           int64\n",
      "floors           float64\n",
      "waterfront         int64\n",
      "view               int64\n",
      "condition          int64\n",
      "sqft_above         int64\n",
      "sqft_basement      int64\n",
      "yr_built           int64\n",
      "yr_renovated       int64\n",
      "year               int32\n",
      "month              int32\n",
      "day                int32\n",
      "dtype: object \n",
      "\n"
     ]
    }
   ],
   "source": [
    "# Ensure all columns are numeric\n",
    "print(\"Data types of columns:\")\n",
    "print(dataset.dtypes, \"\\n\")"
   ]
  },
  {
   "cell_type": "code",
   "execution_count": 25,
   "id": "fbba2761-7bb6-48bf-a123-0b5fa78ab2ad",
   "metadata": {},
   "outputs": [],
   "source": [
    "# Assuming 'price' is the column to predict and the rest are features\n",
    "X = dataset.drop('price', axis=1)\n",
    "y = dataset['price']\n"
   ]
  },
  {
   "cell_type": "code",
   "execution_count": 27,
   "id": "7c894acb-6117-48e4-be8b-2df381cfcb7b",
   "metadata": {},
   "outputs": [
    {
     "name": "stdout",
     "output_type": "stream",
     "text": [
      "Splitting data into training and testing sets...\n",
      "Data split completed.\n",
      "\n"
     ]
    }
   ],
   "source": [
    "# Split the dataset into training (80%) and testing (20%) data\n",
    "print(\"Splitting data into training and testing sets...\")\n",
    "X_train, X_test, y_train, y_test = train_test_split(X, y, test_size=0.2, random_state=42)\n",
    "print(\"Data split completed.\\n\")"
   ]
  },
  {
   "cell_type": "code",
   "execution_count": 29,
   "id": "31d012a4-e8e9-4301-a942-e25865e572c1",
   "metadata": {},
   "outputs": [
    {
     "name": "stdout",
     "output_type": "stream",
     "text": [
      "Shape of training data: (3680, 15)\n",
      "Shape of testing data: (920, 15) \n",
      "\n"
     ]
    }
   ],
   "source": [
    "# Display the shape of training and testing sets\n",
    "print(\"Shape of training data:\", X_train.shape)\n",
    "print(\"Shape of testing data:\", X_test.shape, \"\\n\")"
   ]
  },
  {
   "cell_type": "code",
   "execution_count": 31,
   "id": "9cbc8753-35ff-40a4-9e5d-caac3446cd7c",
   "metadata": {},
   "outputs": [
    {
     "name": "stdout",
     "output_type": "stream",
     "text": [
      "Data types of training features:\n",
      "bedrooms         float64\n",
      "bathrooms        float64\n",
      "sqft_living        int64\n",
      "sqft_lot           int64\n",
      "floors           float64\n",
      "waterfront         int64\n",
      "view               int64\n",
      "condition          int64\n",
      "sqft_above         int64\n",
      "sqft_basement      int64\n",
      "yr_built           int64\n",
      "yr_renovated       int64\n",
      "year               int32\n",
      "month              int32\n",
      "day                int32\n",
      "dtype: object \n",
      "\n"
     ]
    }
   ],
   "source": [
    "# Check the types of data in X_train to ensure they are all numeric\n",
    "print(\"Data types of training features:\")\n",
    "print(X_train.dtypes, \"\\n\")"
   ]
  },
  {
   "cell_type": "code",
   "execution_count": 33,
   "id": "902b2ad6-91da-4141-8b4b-817dfcfb241b",
   "metadata": {},
   "outputs": [
    {
     "name": "stdout",
     "output_type": "stream",
     "text": [
      "Training the linear regression model...\n",
      "Model training completed.\n",
      "\n"
     ]
    }
   ],
   "source": [
    "# Implement the Model\n",
    "print(\"Training the linear regression model...\")\n",
    "model = LinearRegression()\n",
    "model.fit(X_train, y_train)\n",
    "print(\"Model training completed.\\n\")"
   ]
  },
  {
   "cell_type": "code",
   "execution_count": 35,
   "id": "75308e0e-2190-44bd-80c0-07f4c420315f",
   "metadata": {},
   "outputs": [
    {
     "name": "stdout",
     "output_type": "stream",
     "text": [
      "Predicting on the training data...\n",
      "Training Mean Squared Error: 64732206534.48784\n",
      "Training R^2 Score: 0.5444149716609681\n",
      "\n"
     ]
    }
   ],
   "source": [
    "# Predict on the training data\n",
    "print(\"Predicting on the training data...\")\n",
    "train_predictions = model.predict(X_train)\n",
    "train_mse = mean_squared_error(y_train, train_predictions)\n",
    "train_r2 = r2_score(y_train, train_predictions)\n",
    "print(f\"Training Mean Squared Error: {train_mse}\")\n",
    "print(f\"Training R^2 Score: {train_r2}\\n\")"
   ]
  },
  {
   "cell_type": "code",
   "execution_count": 37,
   "id": "2bc931e4-f885-462a-b3cf-f4c74056a7be",
   "metadata": {},
   "outputs": [
    {
     "name": "stdout",
     "output_type": "stream",
     "text": [
      "Evaluating the model on the test data...\n",
      "Test Mean Squared Error: 986454524777.5083\n",
      "Test R^2 Score: 0.0327420063169509\n",
      "\n"
     ]
    }
   ],
   "source": [
    "\n",
    "# Model Evaluation\n",
    "print(\"Evaluating the model on the test data...\")\n",
    "test_predictions = model.predict(X_test)\n",
    "test_mse = mean_squared_error(y_test, test_predictions)\n",
    "test_r2 = r2_score(y_test, test_predictions)\n",
    "print(f\"Test Mean Squared Error: {test_mse}\")\n",
    "print(f\"Test R^2 Score: {test_r2}\\n\")"
   ]
  },
  {
   "cell_type": "code",
   "execution_count": 39,
   "id": "96b6871e-161d-41bc-b946-5565b4ede45c",
   "metadata": {},
   "outputs": [
    {
     "name": "stdout",
     "output_type": "stream",
     "text": [
      "Testing with the same data (reloading and preprocessing)...\n",
      "Predictions on the reloaded data:\n",
      "[ 354717.69153166 1257180.32212008  487026.06104154 ...  743174.47127322\n",
      "  412448.39697367  390260.26230737]\n"
     ]
    }
   ],
   "source": [
    "# Testing with the same data (example)\n",
    "print(\"Testing with the same data (reloading and preprocessing)...\")\n",
    "new_data = pd.read_csv('house price data.csv')\n",
    "new_data['date'] = pd.to_datetime(new_data['date'])\n",
    "new_data['year'] = new_data['date'].dt.year\n",
    "new_data['month'] = new_data['date'].dt.month\n",
    "new_data['day'] = new_data['date'].dt.day\n",
    "new_data = new_data.drop(['date', 'street', 'city', 'statezip', 'country'], axis=1)\n",
    "new_data = new_data.dropna()\n",
    "new_data = new_data.drop_duplicates()\n",
    "new_data = new_data[X.columns]\n",
    "new_predictions = model.predict(new_data)\n",
    "print(\"Predictions on the reloaded data:\")\n",
    "print(new_predictions)"
   ]
  },
  {
   "cell_type": "code",
   "execution_count": null,
   "id": "3d442f4d-3b10-48ec-9654-2f4768e9cef6",
   "metadata": {},
   "outputs": [],
   "source": []
  }
 ],
 "metadata": {
  "kernelspec": {
   "display_name": "Python 3 (ipykernel)",
   "language": "python",
   "name": "python3"
  },
  "language_info": {
   "codemirror_mode": {
    "name": "ipython",
    "version": 3
   },
   "file_extension": ".py",
   "mimetype": "text/x-python",
   "name": "python",
   "nbconvert_exporter": "python",
   "pygments_lexer": "ipython3",
   "version": "3.12.4"
  }
 },
 "nbformat": 4,
 "nbformat_minor": 5
}
