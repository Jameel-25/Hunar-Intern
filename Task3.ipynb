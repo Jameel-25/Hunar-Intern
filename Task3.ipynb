{
 "cells": [
  {
   "cell_type": "code",
   "execution_count": 3,
   "id": "0a2a32df-7ab1-411d-bfa7-62c672a62ce4",
   "metadata": {},
   "outputs": [
    {
     "name": "stdout",
     "output_type": "stream",
     "text": [
      "Dataset loaded successfully.\n",
      "         id diagnosis  radius_mean  texture_mean  perimeter_mean  area_mean  \\\n",
      "0    842302         M        17.99         10.38          122.80     1001.0   \n",
      "1    842517         M        20.57         17.77          132.90     1326.0   \n",
      "2  84300903         M        19.69         21.25          130.00     1203.0   \n",
      "3  84348301         M        11.42         20.38           77.58      386.1   \n",
      "4  84358402         M        20.29         14.34          135.10     1297.0   \n",
      "\n",
      "   smoothness_mean  compactness_mean  concavity_mean  concave_points_mean  \\\n",
      "0          0.11840           0.27760          0.3001              0.14710   \n",
      "1          0.08474           0.07864          0.0869              0.07017   \n",
      "2          0.10960           0.15990          0.1974              0.12790   \n",
      "3          0.14250           0.28390          0.2414              0.10520   \n",
      "4          0.10030           0.13280          0.1980              0.10430   \n",
      "\n",
      "   ...  radius_worst  texture_worst  perimeter_worst  area_worst  \\\n",
      "0  ...         25.38          17.33           184.60      2019.0   \n",
      "1  ...         24.99          23.41           158.80      1956.0   \n",
      "2  ...         23.57          25.53           152.50      1709.0   \n",
      "3  ...         14.91          26.50            98.87       567.7   \n",
      "4  ...         22.54          16.67           152.20      1575.0   \n",
      "\n",
      "   smoothness_worst  compactness_worst  concavity_worst  concave_points_worst  \\\n",
      "0            0.1622             0.6656           0.7119                0.2654   \n",
      "1            0.1238             0.1866           0.2416                0.1860   \n",
      "2            0.1444             0.4245           0.4504                0.2430   \n",
      "3            0.2098             0.8663           0.6869                0.2575   \n",
      "4            0.1374             0.2050           0.4000                0.1625   \n",
      "\n",
      "   symmetry_worst  fractal_dimension_worst  \n",
      "0          0.4601                  0.11890  \n",
      "1          0.2750                  0.08902  \n",
      "2          0.3613                  0.08758  \n",
      "3          0.6638                  0.17300  \n",
      "4          0.2364                  0.07678  \n",
      "\n",
      "[5 rows x 32 columns]\n"
     ]
    }
   ],
   "source": [
    "# Step 1: Import libraries and dataset\n",
    "import pandas as pd\n",
    "from sklearn.model_selection import train_test_split\n",
    "from sklearn.preprocessing import StandardScaler\n",
    "from sklearn.neighbors import KNeighborsClassifier\n",
    "from sklearn.metrics import accuracy_score, precision_score, recall_score, f1_score\n",
    "\n",
    "# Load the dataset\n",
    "file_path = 'breast cancer.csv'\n",
    "data = pd.read_csv(file_path)\n",
    "print(\"Dataset loaded successfully.\")\n",
    "print(data.head())"
   ]
  },
  {
   "cell_type": "code",
   "execution_count": 5,
   "id": "90127a93-c663-4e03-8d32-cb13e89d90e2",
   "metadata": {},
   "outputs": [
    {
     "name": "stdout",
     "output_type": "stream",
     "text": [
      "Checking for missing values...\n",
      "id                         0\n",
      "diagnosis                  0\n",
      "radius_mean                0\n",
      "texture_mean               0\n",
      "perimeter_mean             0\n",
      "area_mean                  0\n",
      "smoothness_mean            0\n",
      "compactness_mean           0\n",
      "concavity_mean             0\n",
      "concave_points_mean        0\n",
      "symmetry_mean              0\n",
      "fractal_dimension_mean     0\n",
      "radius_se                  0\n",
      "texture_se                 0\n",
      "perimeter_se               0\n",
      "area_se                    0\n",
      "smoothness_se              0\n",
      "compactness_se             0\n",
      "concavity_se               0\n",
      "concave_points_se          0\n",
      "symmetry_se                0\n",
      "fractal_dimension_se       0\n",
      "radius_worst               0\n",
      "texture_worst              0\n",
      "perimeter_worst            0\n",
      "area_worst                 0\n",
      "smoothness_worst           0\n",
      "compactness_worst          0\n",
      "concavity_worst            0\n",
      "concave_points_worst       0\n",
      "symmetry_worst             0\n",
      "fractal_dimension_worst    0\n",
      "dtype: int64\n"
     ]
    }
   ],
   "source": [
    "# Step 2: Data Preprocessing\n",
    "# Handle missing values (if any)\n",
    "print(\"Checking for missing values...\")\n",
    "print(data.isnull().sum())"
   ]
  },
  {
   "cell_type": "code",
   "execution_count": 7,
   "id": "1430b13e-af93-4c96-9e43-0de8cc850f0a",
   "metadata": {},
   "outputs": [
    {
     "name": "stdout",
     "output_type": "stream",
     "text": [
      "Missing values handled.\n"
     ]
    }
   ],
   "source": [
    "# Dropping missing values (or you could fill them if appropriate)\n",
    "data = data.dropna()\n",
    "print(\"Missing values handled.\")"
   ]
  },
  {
   "cell_type": "code",
   "execution_count": 9,
   "id": "d97ddb94-378d-4a2f-b4b7-401c6bc36f13",
   "metadata": {},
   "outputs": [],
   "source": [
    "# Splitting the dataset into features and target variable\n",
    "X = data.drop(columns='diagnosis')\n",
    "y = data['diagnosis']"
   ]
  },
  {
   "cell_type": "code",
   "execution_count": 11,
   "id": "4fffa0a4-36c6-4a97-81dc-027cc72b1bab",
   "metadata": {},
   "outputs": [],
   "source": [
    "# Encoding the target variable if it's not numeric (assuming 'diagnosis' is categorical)\n",
    "y = y.map({'M': 1, 'B': 0})"
   ]
  },
  {
   "cell_type": "code",
   "execution_count": 13,
   "id": "4a7edb88-3e2b-49ae-ac22-baf9b0df98cf",
   "metadata": {},
   "outputs": [
    {
     "name": "stdout",
     "output_type": "stream",
     "text": [
      "Dataset split into training and testing sets.\n"
     ]
    }
   ],
   "source": [
    "# Splitting the dataset into training and testing sets\n",
    "X_train, X_test, y_train, y_test = train_test_split(X, y, test_size=0.2, random_state=42)\n",
    "print(\"Dataset split into training and testing sets.\")"
   ]
  },
  {
   "cell_type": "code",
   "execution_count": 15,
   "id": "8f1dc2d5-6e10-4cbf-879e-4180d5ceaa5c",
   "metadata": {},
   "outputs": [
    {
     "name": "stdout",
     "output_type": "stream",
     "text": [
      "Features standardized.\n"
     ]
    }
   ],
   "source": [
    "# Standardizing the features\n",
    "scaler = StandardScaler()\n",
    "X_train = scaler.fit_transform(X_train)\n",
    "X_test = scaler.transform(X_test)\n",
    "print(\"Features standardized.\")"
   ]
  },
  {
   "cell_type": "code",
   "execution_count": 17,
   "id": "9247231b-0919-4d55-8983-75793ecc0a70",
   "metadata": {},
   "outputs": [],
   "source": [
    "# Step 3: K-NN Algorithm\n",
    "# Choosing an appropriate value for 'k'\n",
    "k = 5\n",
    "knn = KNeighborsClassifier(n_neighbors=k)"
   ]
  },
  {
   "cell_type": "code",
   "execution_count": 19,
   "id": "23d8aea9-a3c1-4bb3-a698-f124c8da6acf",
   "metadata": {},
   "outputs": [
    {
     "name": "stdout",
     "output_type": "stream",
     "text": [
      "K-NN model trained with k=5.\n"
     ]
    }
   ],
   "source": [
    "# Applying the model to the training dataset\n",
    "knn.fit(X_train, y_train)\n",
    "print(f\"K-NN model trained with k={k}.\")"
   ]
  },
  {
   "cell_type": "code",
   "execution_count": 21,
   "id": "a4b91321-fe15-4641-9ac4-25b75587ee1b",
   "metadata": {},
   "outputs": [],
   "source": [
    "# Step 4: Model Evaluation\n",
    "# Using the testing set to assess the model's accuracy, precision, recall, and F1 score\n",
    "y_pred = knn.predict(X_test)"
   ]
  },
  {
   "cell_type": "code",
   "execution_count": 23,
   "id": "310ccb58-e203-43a4-985b-9fa5fa27f46e",
   "metadata": {},
   "outputs": [],
   "source": [
    "accuracy = accuracy_score(y_test, y_pred)\n",
    "precision = precision_score(y_test, y_pred)\n",
    "recall = recall_score(y_test, y_pred)\n",
    "f1 = f1_score(y_test, y_pred)"
   ]
  },
  {
   "cell_type": "code",
   "execution_count": 25,
   "id": "201c198a-15b6-44e6-b8a3-0c422ed2400a",
   "metadata": {},
   "outputs": [
    {
     "name": "stdout",
     "output_type": "stream",
     "text": [
      "Model Evaluation Metrics:\n",
      "Accuracy: 0.9473684210526315\n",
      "Precision: 0.9302325581395349\n",
      "Recall: 0.9302325581395349\n",
      "F1 Score: 0.9302325581395349\n"
     ]
    }
   ],
   "source": [
    "print(f\"Model Evaluation Metrics:\\nAccuracy: {accuracy}\\nPrecision: {precision}\\nRecall: {recall}\\nF1 Score: {f1}\")"
   ]
  },
  {
   "cell_type": "code",
   "execution_count": 27,
   "id": "a3f9caef-121f-4ed3-a6d3-76129d583b02",
   "metadata": {},
   "outputs": [],
   "source": [
    "# Adjust 'k' if needed for better results\n",
    "# This part can be done by trying multiple values for 'k' and checking the metrics"
   ]
  },
  {
   "cell_type": "code",
   "execution_count": 29,
   "id": "210696a9-adda-4454-943c-ff520051fe51",
   "metadata": {},
   "outputs": [
    {
     "name": "stdout",
     "output_type": "stream",
     "text": [
      "Sample predictions: [0 1 1 0 0]\n"
     ]
    }
   ],
   "source": [
    "# Step 5: Testing\n",
    "# Test the model with a different set of data (Here, we use the test set itself for demonstration)\n",
    "sample_data = X_test[:5]  # Replace this with any new data you want to test\n",
    "sample_predictions = knn.predict(sample_data)\n",
    "print(\"Sample predictions:\", sample_predictions)"
   ]
  },
  {
   "cell_type": "code",
   "execution_count": null,
   "id": "f01ad530-565c-4679-b078-3e1710d3555e",
   "metadata": {},
   "outputs": [],
   "source": []
  }
 ],
 "metadata": {
  "kernelspec": {
   "display_name": "Python 3 (ipykernel)",
   "language": "python",
   "name": "python3"
  },
  "language_info": {
   "codemirror_mode": {
    "name": "ipython",
    "version": 3
   },
   "file_extension": ".py",
   "mimetype": "text/x-python",
   "name": "python",
   "nbconvert_exporter": "python",
   "pygments_lexer": "ipython3",
   "version": "3.12.4"
  }
 },
 "nbformat": 4,
 "nbformat_minor": 5
}
