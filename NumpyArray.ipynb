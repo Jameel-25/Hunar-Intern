{
 "cells": [
  {
   "cell_type": "code",
   "execution_count": 11,
   "id": "00fcf822-ae0c-4ec2-858c-5fda40c1169b",
   "metadata": {},
   "outputs": [
    {
     "name": "stdin",
     "output_type": "stream",
     "text": [
      "Enter the order of the martrix (e.g., for a 3x3 matrix, enter 3):  3\n"
     ]
    },
    {
     "name": "stdout",
     "output_type": "stream",
     "text": [
      "Enter the elements of the 3x3 matrix row by row:\n"
     ]
    },
    {
     "name": "stdin",
     "output_type": "stream",
     "text": [
      "Enter row 1:  1 2 3\n",
      "Enter row 2:  4 5 6\n",
      "Enter row 3:  7 8 9\n"
     ]
    },
    {
     "name": "stdout",
     "output_type": "stream",
     "text": [
      "The sum of the diagonal elements is: 15\n"
     ]
    }
   ],
   "source": [
    "import numpy as np\n",
    "# Step 1: Get user input for the order of the matrix\n",
    "order = int(input(\"Enter the order of the martrix (e.g., for a 3x3 matrix, enter 3): \"))\n",
    "\n",
    "# Step 2: Create the matrix based on user input\n",
    "matrix = [] \n",
    "print(f\"Enter the elements of the {order}x{order} matrix row by row:\")\n",
    "for i in range(order):\n",
    "    row = list(map(int, input(f\"Enter row {i+1}: \").split()))\n",
    "    matrix.append(row)\n",
    "\n",
    "# Conver the list to a NumPy array\n",
    "matirx = np.array(matrix)\n",
    "\n",
    "# Step 3: Calculate the sume of diagonal elements\n",
    "diagonal_sum=0\n",
    "for i in range(order):\n",
    "    diagonal_sum += matrix[i][i]\n",
    "\n",
    "# Step 4: Print the sum of diagonal elements\n",
    "print(f\"The sum of the diagonal elements is: {diagonal_sum}\")"
   ]
  },
  {
   "cell_type": "code",
   "execution_count": null,
   "id": "3b244f08-cb52-4d41-b3ea-7047e2915b7f",
   "metadata": {},
   "outputs": [],
   "source": []
  }
 ],
 "metadata": {
  "kernelspec": {
   "display_name": "Python 3 (ipykernel)",
   "language": "python",
   "name": "python3"
  },
  "language_info": {
   "codemirror_mode": {
    "name": "ipython",
    "version": 3
   },
   "file_extension": ".py",
   "mimetype": "text/x-python",
   "name": "python",
   "nbconvert_exporter": "python",
   "pygments_lexer": "ipython3",
   "version": "3.12.4"
  }
 },
 "nbformat": 4,
 "nbformat_minor": 5
}
